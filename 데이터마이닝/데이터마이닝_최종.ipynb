{
 "cells": [
  {
   "cell_type": "code",
   "execution_count": 74,
   "id": "8fba5d7e",
   "metadata": {},
   "outputs": [
    {
     "name": "stdout",
     "output_type": "stream",
     "text": [
      "    address  급속충전기  완속충전기  electric_car  toilet  gas_station  generation  \\\n",
      "0   gangnam     38     81         12173     208           35      234885   \n",
      "1  gangdong     30     56          1293     151           14      202861   \n",
      "2   gangbuk     12     16           514      80           13      145048   \n",
      "3   gangseo     24     43          1776     246           31      274301   \n",
      "4    gwanak     11     17           777      87           15      281423   \n",
      "\n",
      "   generation_sum  generation_per  \n",
      "0          536710            2.26  \n",
      "1          465496            2.28  \n",
      "2          300246            2.05  \n",
      "3          578465            2.09  \n",
      "4          500841            1.73  \n"
     ]
    }
   ],
   "source": [
    "import pandas as pd\n",
    "\n",
    "# xlsx 파일 불러오기\n",
    "file_path = \"new_join.xlsx\"\n",
    "df = pd.read_excel(file_path)\n",
    "\n",
    "# 데이터 확인\n",
    "print(df.head())"
   ]
  },
  {
   "cell_type": "code",
   "execution_count": null,
   "id": "77a47163",
   "metadata": {},
   "outputs": [],
   "source": [
    "# 산점도"
   ]
  },
  {
   "cell_type": "code",
   "execution_count": 78,
   "id": "a942eaf3",
   "metadata": {},
   "outputs": [
    {
     "data": {
      "image/png": "[encoded data removed]",
      "text/plain": [
       "<Figure size 720x720 with 4 Axes>"
      ]
     },
     "metadata": {
      "needs_background": "light"
     },
     "output_type": "display_data"
    }
   ],
   "source": [
    "import pandas as pd\n",
    "import matplotlib.pyplot as plt\n",
    "\n",
    "# 데이터프레임에서 변수들 선택\n",
    "selected_vars = ['generation', 'generation_sum']\n",
    "subset_df = df[selected_vars]\n",
    "\n",
    "# 산점도 행렬 생성\n",
    "pd.plotting.scatter_matrix(subset_df, figsize=(10, 10))\n",
    "plt.show()"
   ]
  },
  {
   "cell_type": "code",
   "execution_count": null,
   "id": "093a4bf9",
   "metadata": {},
   "outputs": [],
   "source": [
    "# 독립성 검정"
   ]
  },
  {
   "cell_type": "code",
   "execution_count": 90,
   "id": "67eb217f",
   "metadata": {},
   "outputs": [
    {
     "name": "stdout",
     "output_type": "stream",
     "text": [
      "Chi-square statistic: 6.259255139108882\n",
      "p-value: 0.9998945227796919\n"
     ]
    }
   ],
   "source": [
    "import pandas as pd\n",
    "from scipy.stats import chi2_contingency\n",
    "\n",
    "# 데이터프레임에서 변수들 선택\n",
    "selected_vars = ['generation_sum', 'generation_per']  # 독립성을 검정할 변수 선택\n",
    "subset_df = df[selected_vars]\n",
    "\n",
    "# 카이제곱 검정 수행\n",
    "chi2, p_value, _, _ = chi2_contingency(subset_df)\n",
    "\n",
    "print(\"Chi-square statistic:\", chi2)\n",
    "print(\"p-value:\", p_value)"
   ]
  },
  {
   "cell_type": "code",
   "execution_count": 92,
   "id": "bfe5f840",
   "metadata": {},
   "outputs": [
    {
     "data": {
      "text/plain": [
       "\"Chi-square 검정 결과, 검정 통계량은 6.2593이며 p-value는 0.9999로 나왔습니다.\\n\\np-value가 0.05보다 크므로 귀무가설을 기각할 수 없으며, 변수들은 독립적이라는 결론을 내릴 수 있습니다.\\n\\n즉, 변수 'generation_sum'과 'generation_per'는 독립적이라고 해석할 수 있습니다.\""
      ]
     },
     "execution_count": 92,
     "metadata": {},
     "output_type": "execute_result"
    }
   ],
   "source": [
    "'''Chi-square 검정 결과, 검정 통계량은 6.2593이며 p-value는 0.9999로 나왔습니다.\n",
    "\n",
    "p-value가 0.05보다 크므로 귀무가설을 기각할 수 없으며, 변수들은 독립적이라는 결론을 내릴 수 있습니다.\n",
    "\n",
    "즉, 변수 'generation_sum'과 'generation_per'는 독립적이라고 해석할 수 있습니다.'''"
   ]
  },
  {
   "cell_type": "code",
   "execution_count": 93,
   "id": "62f0fec8",
   "metadata": {},
   "outputs": [
    {
     "name": "stdout",
     "output_type": "stream",
     "text": [
      "Chi-square statistic: 15.902206654245772\n",
      "p-value: 0.8915734554050814\n"
     ]
    }
   ],
   "source": [
    "import pandas as pd\n",
    "from scipy.stats import chi2_contingency\n",
    "\n",
    "# 데이터프레임에서 변수들 선택\n",
    "selected_vars = ['generation_per','toilet']  # 독립성을 검정할 변수 선택\n",
    "subset_df = df[selected_vars]\n",
    "\n",
    "# 카이제곱 검정 수행\n",
    "chi2, p_value, _, _ = chi2_contingency(subset_df)\n",
    "\n",
    "print(\"Chi-square statistic:\", chi2)\n",
    "print(\"p-value:\", p_value)"
   ]
  },
  {
   "cell_type": "code",
   "execution_count": 98,
   "id": "1c99fd32",
   "metadata": {},
   "outputs": [
    {
     "data": {
      "text/plain": [
       "\" Chi-square 검정 결과, 검정 통계량은 15.9022이며 p-value는 0.8916로 나왔습니다.p-value가 0.05보다 크므로 귀무가설을 기각할 수 없으며, 변수 'generation_per'와 'toilet'은 독립적이라는 결론을 내릴 수 있습니다.즉, 'generation_per'와 'toilet' 변수들은 독립적으로 간주될 수 있습니다.\""
      ]
     },
     "execution_count": 98,
     "metadata": {},
     "output_type": "execute_result"
    }
   ],
   "source": [
    "''' Chi-square 검정 결과, 검정 통계량은 15.9022이며 p-value는 0.8916로 나왔습니다.p-value가 0.05보다 크므로 귀무가설을 기각할 수 없으며, 변수 'generation_per'와 'toilet'은 독립적이라는 결론을 내릴 수 있습니다.즉, 'generation_per'와 'toilet' 변수들은 독립적으로 간주될 수 있습니다.'''"
   ]
  },
  {
   "cell_type": "code",
   "execution_count": 96,
   "id": "a20428bb",
   "metadata": {},
   "outputs": [
    {
     "name": "stdout",
     "output_type": "stream",
     "text": [
      "Chi-square statistic: 16.917921933695933\n",
      "p-value: 0.8521414869557382\n"
     ]
    }
   ],
   "source": [
    "import pandas as pd\n",
    "from scipy.stats import chi2_contingency\n",
    "\n",
    "# 데이터프레임에서 변수들 선택\n",
    "selected_vars = ['generation_per','gas_station']  # 독립성을 검정할 변수 선택\n",
    "subset_df = df[selected_vars]\n",
    "\n",
    "# 카이제곱 검정 수행\n",
    "chi2, p_value, _, _ = chi2_contingency(subset_df)\n",
    "\n",
    "print(\"Chi-square statistic:\", chi2)\n",
    "print(\"p-value:\", p_value)"
   ]
  },
  {
   "cell_type": "code",
   "execution_count": 99,
   "id": "655eeb5b",
   "metadata": {},
   "outputs": [
    {
     "data": {
      "text/plain": [
       "'마찬가지로 독립성 충족'"
      ]
     },
     "execution_count": 99,
     "metadata": {},
     "output_type": "execute_result"
    }
   ],
   "source": [
    "'''마찬가지로 독립성 충족'''"
   ]
  },
  {
   "cell_type": "code",
   "execution_count": 100,
   "id": "6dc570ad",
   "metadata": {},
   "outputs": [],
   "source": [
    "## 등분산성 검정"
   ]
  },
  {
   "cell_type": "code",
   "execution_count": 101,
   "id": "eb1b8e31",
   "metadata": {},
   "outputs": [
    {
     "name": "stdout",
     "output_type": "stream",
     "text": [
      "Levene's test statistic: 1.2306289881494994\n",
      "p-value: 0.27281183994473285\n"
     ]
    }
   ],
   "source": [
    "from scipy.stats import levene\n",
    "\n",
    "# 데이터프레임에서 변수들 선택\n",
    "selected_vars = ['gas_station', '급속충전기']  # 등분산성을 검정할 변수 선택\n",
    "subset_df = df[selected_vars]\n",
    "\n",
    "# 이분산 검정 수행\n",
    "statistic, p_value = levene(df['gas_station'], df['급속충전기'])\n",
    "\n",
    "print(\"Levene's test statistic:\", statistic)\n",
    "print(\"p-value:\", p_value)"
   ]
  },
  {
   "cell_type": "code",
   "execution_count": 102,
   "id": "5bd46771",
   "metadata": {},
   "outputs": [
    {
     "data": {
      "text/plain": [
       "\"유의확률 (p-value)이 0.05보다 크므로, 귀무가설을 기각할 수 없습니다. 즉, 'gas_station'과 '급속충전기' 변수 간의 등분산성은 유의한 차이가 없다고 할 수 있습니다.\\n따라서, 이 결과를 바탕으로 'gas_station'과 '급속충전기' 변수 간의 등분산성을 만족한다고 할 수 있습니다.\""
      ]
     },
     "execution_count": 102,
     "metadata": {},
     "output_type": "execute_result"
    }
   ],
   "source": [
    "'''유의확률 (p-value)이 0.05보다 크므로, 귀무가설을 기각할 수 없습니다. 즉, 'gas_station'과 '급속충전기' 변수 간의 등분산성은 유의한 차이가 없다고 할 수 있습니다.\n",
    "따라서, 이 결과를 바탕으로 'gas_station'과 '급속충전기' 변수 간의 등분산성을 만족한다고 할 수 있습니다.'''"
   ]
  },
  {
   "cell_type": "code",
   "execution_count": 119,
   "id": "16a6676a",
   "metadata": {},
   "outputs": [],
   "source": [
    "#정규성 검정"
   ]
  },
  {
   "cell_type": "code",
   "execution_count": 120,
   "id": "616fc756",
   "metadata": {},
   "outputs": [
    {
     "name": "stdout",
     "output_type": "stream",
     "text": [
      "Shapiro-Wilk test statistic: 0.9669051170349121\n",
      "p-value: 0.5680199861526489\n"
     ]
    }
   ],
   "source": [
    "from scipy.stats import shapiro\n",
    "\n",
    "# 데이터프레임에서 변수 선택\n",
    "selected_var = 'generation'  # 정규성을 검정할 변수 선택\n",
    "subset_data = df[selected_var]\n",
    "\n",
    "# 샤피로-윌크 검정 수행\n",
    "statistic, p_value = shapiro(subset_data)\n",
    "\n",
    "print(\"Shapiro-Wilk test statistic:\", statistic)\n",
    "print(\"p-value:\", p_value)\n"
   ]
  },
  {
   "cell_type": "code",
   "execution_count": 121,
   "id": "90c4251e",
   "metadata": {},
   "outputs": [
    {
     "data": {
      "text/plain": [
       "\"유의확률 (p-value)이 0.05보다 크므로, 귀무가설을 기각할 수 없습니다. 즉, 'generation' 변수가 정규분포를 따른다는 가정은 유지될 수 있습니다.\\n따라서, 이 결과를 바탕으로 'generation' 변수가 정규분포를 따른다고 할 수 있습니다.\""
      ]
     },
     "execution_count": 121,
     "metadata": {},
     "output_type": "execute_result"
    }
   ],
   "source": [
    "'''유의확률 (p-value)이 0.05보다 크므로, 귀무가설을 기각할 수 없습니다. 즉, 'generation' 변수가 정규분포를 따른다는 가정은 유지될 수 있습니다.\n",
    "따라서, 이 결과를 바탕으로 'generation' 변수가 정규분포를 따른다고 할 수 있습니다.'''"
   ]
  },
  {
   "cell_type": "code",
   "execution_count": 122,
   "id": "910d6e62",
   "metadata": {},
   "outputs": [
    {
     "name": "stdout",
     "output_type": "stream",
     "text": [
      "Shapiro-Wilk test statistic: 0.9323965311050415\n",
      "p-value: 0.09872937947511673\n"
     ]
    }
   ],
   "source": [
    "from scipy.stats import shapiro\n",
    "\n",
    "# 데이터프레임에서 변수 선택\n",
    "selected_var = 'gas_station'  # 정규성을 검정할 변수 선택\n",
    "subset_data = df[selected_var]\n",
    "\n",
    "# 샤피로-윌크 검정 수행\n",
    "statistic, p_value = shapiro(subset_data)\n",
    "\n",
    "print(\"Shapiro-Wilk test statistic:\", statistic)\n",
    "print(\"p-value:\", p_value)\n"
   ]
  },
  {
   "cell_type": "code",
   "execution_count": 125,
   "id": "84a01911",
   "metadata": {},
   "outputs": [
    {
     "data": {
      "text/plain": [
       "'마찬가지로 정규분포 따름'"
      ]
     },
     "execution_count": 125,
     "metadata": {},
     "output_type": "execute_result"
    }
   ],
   "source": [
    "'''마찬가지로 정규분포 따름'''"
   ]
  },
  {
   "cell_type": "code",
   "execution_count": 124,
   "id": "251d5236",
   "metadata": {},
   "outputs": [
    {
     "name": "stdout",
     "output_type": "stream",
     "text": [
      "Shapiro-Wilk test statistic: 0.990083634853363\n",
      "p-value: 0.9957936406135559\n"
     ]
    }
   ],
   "source": [
    "from scipy.stats import shapiro\n",
    "\n",
    "# 데이터프레임에서 변수 선택\n",
    "selected_var = 'generation_sum'  # 정규성을 검정할 변수 선택\n",
    "subset_data = df[selected_var]\n",
    "\n",
    "# 샤피로-윌크 검정 수행\n",
    "statistic, p_value = shapiro(subset_data)\n",
    "\n",
    "print(\"Shapiro-Wilk test statistic:\", statistic)\n",
    "print(\"p-value:\", p_value)\n"
   ]
  },
  {
   "cell_type": "code",
   "execution_count": 126,
   "id": "a633d491",
   "metadata": {},
   "outputs": [
    {
     "data": {
      "text/plain": [
       "'얘도 정규분포 따름'"
      ]
     },
     "execution_count": 126,
     "metadata": {},
     "output_type": "execute_result"
    }
   ],
   "source": [
    "'''얘도 정규분포 따름'''"
   ]
  },
  {
   "cell_type": "code",
   "execution_count": 4,
   "id": "a7229541",
   "metadata": {},
   "outputs": [],
   "source": [
    "# RANDOM FOREST"
   ]
  },
  {
   "cell_type": "code",
   "execution_count": 128,
   "id": "ba4fdd99",
   "metadata": {},
   "outputs": [
    {
     "name": "stdout",
     "output_type": "stream",
     "text": [
      "electric_car      0.262992\n",
      "toilet            0.250256\n",
      "generation_per    0.174218\n",
      "generation_sum    0.117206\n",
      "급속충전기             0.080975\n",
      "완속충전기             0.058377\n",
      "generation        0.055977\n",
      "dtype: float64\n"
     ]
    }
   ],
   "source": [
    "importances = model.feature_importances_\n",
    "feature_importances = pd.Series(importances, index=features).sort_values(ascending=False)\n",
    "print(feature_importances)\n"
   ]
  },
  {
   "cell_type": "code",
   "execution_count": 40,
   "id": "77a903ad",
   "metadata": {},
   "outputs": [
    {
     "name": "stdout",
     "output_type": "stream",
     "text": [
      "모델 RMSE: 6.421193035565898\n",
      "electric_car: 0.2907252732461338\n",
      "toilet: 0.27668836398975666\n",
      "generation_per: 0.14899117594125663\n",
      "급속충전기: 0.09807520330473651\n",
      "generation_sum: 0.08961288649886107\n",
      "generation: 0.04962309176874881\n",
      "완속충전기: 0.04628400525050667\n"
     ]
    },
    {
     "data": {
      "image/png": "[encoded data removed]",
      "text/plain": [
       "<Figure size 720x432 with 1 Axes>"
      ]
     },
     "metadata": {
      "needs_background": "light"
     },
     "output_type": "display_data"
    }
   ],
   "source": [
    "import pandas as pd\n",
    "import numpy as np\n",
    "from sklearn.ensemble import RandomForestRegressor\n",
    "from sklearn.metrics import mean_squared_error\n",
    "from sklearn.model_selection import train_test_split\n",
    "import matplotlib.pyplot as plt\n",
    "\n",
    "# Load the dataset\n",
    "data = pd.read_excel('new_join.xlsx')\n",
    "\n",
    "# Define the features and target variable\n",
    "features = ['급속충전기', '완속충전기', 'electric_car', 'toilet', 'generation', 'generation_per', 'generation_sum']\n",
    "target = 'gas_station'\n",
    "\n",
    "X = data[features]\n",
    "y = data[target]\n",
    "\n",
    "# Split the data into training and validation sets\n",
    "X_train, X_val, y_train, y_val = train_test_split(X, y, test_size=0.2, random_state=42)\n",
    "\n",
    "# Create a Random Forest regression model\n",
    "model = RandomForestRegressor()\n",
    "model.fit(X_train, y_train)\n",
    "\n",
    "# Evaluate the model\n",
    "y_pred = model.predict(X_val)\n",
    "rmse = np.sqrt(mean_squared_error(y_val, y_pred))\n",
    "print(f\"모델 RMSE: {rmse}\")\n",
    "\n",
    "# Calculate variable importances\n",
    "importances = model.feature_importances_\n",
    "\n",
    "# Sort variables by importance\n",
    "sorted_indices = np.argsort(importances)[::-1]\n",
    "sorted_features = np.array(features)[sorted_indices]\n",
    "sorted_importances = importances[sorted_indices]\n",
    "\n",
    "# Print variable importances\n",
    "for feature, importance in zip(sorted_features, sorted_importances):\n",
    "    print(f\"{feature}: {importance}\")\n",
    "\n",
    "# Make predictions on the entire dataset\n",
    "predictions = model.predict(X)\n",
    "\n",
    "# Add predictions to the dataset\n",
    "data['predictions'] = predictions\n",
    "\n",
    "# Calculate the weights based on generation_sum\n",
    "weight_min = data['generation_sum'].min()\n",
    "weight_max = data['generation_sum'].max()\n",
    "data['Weight'] = (data['generation_sum'] - weight_min) / (weight_max - weight_min)\n",
    "\n",
    "# Select the top 5 districts based on weighted predictions\n",
    "top_districts = data.sort_values('predictions', ascending=False).head(5)\n",
    "\n",
    "# Visualize the top districts with weighted predictions\n",
    "plt.figure(figsize=(10, 6))\n",
    "plt.bar(top_districts['address'], top_districts['predictions'], color='blue', alpha=0.5)\n",
    "plt.xlabel('District')\n",
    "plt.ylabel('Prediction')\n",
    "plt.title('Top Districts to Convert Gas Stations to Charging Stations (Weighted)')\n",
    "plt.xticks(rotation=45)\n",
    "plt.tight_layout()\n",
    "plt.show()\n"
   ]
  },
  {
   "cell_type": "code",
   "execution_count": 41,
   "id": "3da38806",
   "metadata": {},
   "outputs": [],
   "source": [
    "## 결과 해석"
   ]
  },
  {
   "cell_type": "code",
   "execution_count": 42,
   "id": "4dcbb8ee",
   "metadata": {},
   "outputs": [
    {
     "data": {
      "text/plain": [
       "\"모델의 RMSE(Root Mean Squared Error)는 6.42로 나타났습니다. RMSE는 예측값과 실제값의 차이를 제곱하여 평균한 후, 다시 제곱근을 취한 값으로, 작을수록 모델의 예측 성능이 좋다고 해석할 수 있습니다.\\n\\n변수 중요도를 확인해보면, 주어진 변수들 중 'electric_car'가 가장 높은 중요도를 가지고 있습니다. 이는 전기차 수와 충전소 간의 관련성이 높다는 것을 의미합니다. 다음으로 'toilet'과 'generation_per'가 중요한 변수로 나타났는데, 이는 주변 환경 및 충전 인프라와 관련이 있는 것으로 해석될 수 있습니다.\\n\\n'급속충전기', 'generation_sum', 'generation', '완속충전기' 순으로 중요도가 낮게 나타났습니다. 이는 해당 변수들이 전체적인 예측에는 영향을 덜 주는 것을 의미합니다.\\n\\n따라서, 이 모델을 통해 가장 중요한 변수는 'electric_car'이며, 그 다음으로 'toilet'과 'generation_per'이 중요하다는 결과를 얻을 수 있습니다. 이 정보를 활용하여 전기차 충전소 설치 및 관리에 관한 의사결정을 할 수 있습니다.\""
      ]
     },
     "execution_count": 42,
     "metadata": {},
     "output_type": "execute_result"
    }
   ],
   "source": [
    "'''모델의 RMSE(Root Mean Squared Error)는 6.42로 나타났습니다. RMSE는 예측값과 실제값의 차이를 제곱하여 평균한 후, 다시 제곱근을 취한 값으로, 작을수록 모델의 예측 성능이 좋다고 해석할 수 있습니다.\n",
    "\n",
    "변수 중요도를 확인해보면, 주어진 변수들 중 'electric_car'가 가장 높은 중요도를 가지고 있습니다. 이는 전기차 수와 충전소 간의 관련성이 높다는 것을 의미합니다. 다음으로 'toilet'과 'generation_per'가 중요한 변수로 나타났는데, 이는 주변 환경 및 충전 인프라와 관련이 있는 것으로 해석될 수 있습니다.\n",
    "\n",
    "'급속충전기', 'generation_sum', 'generation', '완속충전기' 순으로 중요도가 낮게 나타났습니다. 이는 해당 변수들이 전체적인 예측에는 영향을 덜 주는 것을 의미합니다.\n",
    "\n",
    "따라서, 이 모델을 통해 가장 중요한 변수는 'electric_car'이며, 그 다음으로 'toilet'과 'generation_per'이 중요하다는 결과를 얻을 수 있습니다. 이 정보를 활용하여 전기차 충전소 설치 및 관리에 관한 의사결정을 할 수 있습니다.'''"
   ]
  },
  {
   "cell_type": "code",
   "execution_count": 132,
   "id": "23d50d6d",
   "metadata": {},
   "outputs": [],
   "source": [
    "#XGBOOST"
   ]
  },
  {
   "cell_type": "code",
   "execution_count": null,
   "id": "9350eb84",
   "metadata": {},
   "outputs": [
    {
     "name": "stdout",
     "output_type": "stream",
     "text": [
      "모델 RMSE: 7.611165659932757\n",
      "generation_sum: 0.5868238210678101\n",
      "toilet: 0.24201682209968567\n",
      "electric_car: 0.08860687911510468\n",
      "급속충전기: 0.041904181241989136\n",
      "generation_per: 0.01643369346857071\n",
      "완속충전기: 0.014615793712437153\n",
      "generation: 0.009598825126886368\n"
     ]
    },
    {
     "data": {
      "image/png": "[encoded data removed]",
      "text/plain": [
       "<Figure size 720x432 with 1 Axes>"
      ]
     },
     "metadata": {
      "needs_background": "light"
     },
     "output_type": "display_data"
    }
   ],
   "source": [
    "import pandas as pd\n",
    "import numpy as np\n",
    "import xgboost as xgb\n",
    "from sklearn.metrics import mean_squared_error\n",
    "import matplotlib.pyplot as plt\n",
    "\n",
    "# Load the dataset\n",
    "data = pd.read_excel('new_join.xlsx')\n",
    "\n",
    "# Define the features and target variable\n",
    "features = ['급속충전기', '완속충전기', 'electric_car', 'toilet', 'generation', 'generation_per', 'generation_sum']\n",
    "target = 'gas_station'\n",
    "\n",
    "X = data[features]\n",
    "y = data[target]\n",
    "\n",
    "# Split the data into training and validation sets\n",
    "split_idx = int(len(data) * 0.8)\n",
    "X_train, X_val = X[:split_idx], X[split_idx:]\n",
    "y_train, y_val = y[:split_idx], y[split_idx:]\n",
    "\n",
    "# Create an XGBoost regression model\n",
    "model = xgb.XGBRegressor()\n",
    "model.fit(X_train, y_train)\n",
    "\n",
    "# Evaluate the model\n",
    "y_pred = model.predict(X_val)\n",
    "rmse = np.sqrt(mean_squared_error(y_val, y_pred))\n",
    "print(f\"모델 RMSE: {rmse}\")\n",
    "\n",
    "# Calculate variable importances\n",
    "importances = model.feature_importances_\n",
    "\n",
    "# Sort variables by importance\n",
    "sorted_indices = np.argsort(importances)[::-1]\n",
    "sorted_features = np.array(features)[sorted_indices]\n",
    "sorted_importances = importances[sorted_indices]\n",
    "\n",
    "# Print variable importances\n",
    "for feature, importance in zip(sorted_features, sorted_importances):\n",
    "    print(f\"{feature}: {importance}\")\n",
    "\n",
    "# Make predictions on the entire dataset\n",
    "predictions = model.predict(X)\n",
    "\n",
    "# Add predictions to the dataset\n",
    "data['predictions'] = predictions\n",
    "\n",
    "# Calculate the weights based on generation_sum\n",
    "weight_min = data['generation_sum'].min()\n",
    "weight_max = data['generation_sum'].max()\n",
    "data['Weight'] = (data['generation_sum'] - weight_min) / (weight_max - weight_min)\n",
    "\n",
    "# Select the top 5 districts based on weighted predictions\n",
    "top_districts = data.sort_values('predictions', ascending=False).head(5)\n",
    "\n",
    "# Visualize the top districts with weighted predictions\n",
    "plt.figure(figsize=(10, 6))\n",
    "plt.bar(top_districts['address'], top_districts['predictions'], color='blue', alpha=0.5)\n",
    "plt.xlabel('District')\n",
    "plt.ylabel('Prediction')\n",
    "plt.title('Top Districts to Convert Gas Stations to Charging Stations (Weighted)')\n",
    "plt.xticks(rotation=45)\n",
    "plt.tight_layout()\n",
    "plt.show()"
   ]
  },
  {
   "cell_type": "code",
   "execution_count": 51,
   "id": "9cff1bd1",
   "metadata": {},
   "outputs": [],
   "source": [
    "## 결과해석"
   ]
  },
  {
   "cell_type": "code",
   "execution_count": 53,
   "id": "aad0bd00",
   "metadata": {},
   "outputs": [
    {
     "data": {
      "text/plain": [
       "\"XGBoost 모델의 RMSE(Root Mean Squared Error)는 7.61로 나타났습니다. RMSE는 예측값과 실제값의 차이를 제곱하여 평균한 후, 다시 제곱근을 취한 값으로, 작을수록 모델의 예측 성능이 좋다고 해석할 수 있습니다.\\n\\n변수 중요도를 확인해보면, 'generation_sum'이 가장 높은 중요도를 가지고 있습니다. 이는 'generation_sum' 변수가 예측에 가장 큰 영향을 미치는 것을 의미합니다. 'generation_sum'은 충전된 전기량의 합으로, 전기차 충전소 설치 결정에 있어서 매우 중요한 변수로 나타났습니다.\\n\\n다음으로 'toilet'이 두 번째로 중요한 변수로 나타났는데, 이는 주변 환경 요소 중 화장실의 유무가 충전소 설치에 영향을 준다는 것을 의미할 수 있습니다. 'electric_car'는 전기차의 수와 관련된 변수로 중요도가 높게 나타났습니다.\\n\\n'급속충전기', 'generation_per', '완속충전기', 'generation' 순으로 중요도가 낮게 나타났습니다. 이는 해당 변수들이 예측에는 상대적으로 덜 영향을 주는 것으로 해석될 수 있습니다.\\n\\n따라서, XGBoost 모델을 통해 가장 중요한 변수는 'generation_sum'으로, 그 다음으로 'toilet'과 'electric_car'이 중요하다는 결과를 얻을 수 있습니다. 이 정보를 활용하여 전기차 충전소 설치 및 관리에 관한 의사결정을 할 수 있습니다.\""
      ]
     },
     "execution_count": 53,
     "metadata": {},
     "output_type": "execute_result"
    }
   ],
   "source": [
    "'''XGBoost 모델의 RMSE(Root Mean Squared Error)는 7.61로 나타났습니다. RMSE는 예측값과 실제값의 차이를 제곱하여 평균한 후, 다시 제곱근을 취한 값으로, 작을수록 모델의 예측 성능이 좋다고 해석할 수 있습니다.\n",
    "\n",
    "변수 중요도를 확인해보면, 'generation_sum'이 가장 높은 중요도를 가지고 있습니다. 이는 'generation_sum' 변수가 예측에 가장 큰 영향을 미치는 것을 의미합니다. 'generation_sum'은 충전된 전기량의 합으로, 전기차 충전소 설치 결정에 있어서 매우 중요한 변수로 나타났습니다.\n",
    "\n",
    "다음으로 'toilet'이 두 번째로 중요한 변수로 나타났는데, 이는 주변 환경 요소 중 화장실의 유무가 충전소 설치에 영향을 준다는 것을 의미할 수 있습니다. 'electric_car'는 전기차의 수와 관련된 변수로 중요도가 높게 나타났습니다.\n",
    "\n",
    "'급속충전기', 'generation_per', '완속충전기', 'generation' 순으로 중요도가 낮게 나타났습니다. 이는 해당 변수들이 예측에는 상대적으로 덜 영향을 주는 것으로 해석될 수 있습니다.\n",
    "\n",
    "따라서, XGBoost 모델을 통해 가장 중요한 변수는 'generation_sum'으로, 그 다음으로 'toilet'과 'electric_car'이 중요하다는 결과를 얻을 수 있습니다. 이 정보를 활용하여 전기차 충전소 설치 및 관리에 관한 의사결정을 할 수 있습니다.'''"
   ]
  },
  {
   "cell_type": "code",
   "execution_count": 56,
   "id": "1c986b3e",
   "metadata": {},
   "outputs": [],
   "source": [
    "# linear regression"
   ]
  },
  {
   "cell_type": "code",
   "execution_count": 59,
   "id": "1ceb904d",
   "metadata": {},
   "outputs": [
    {
     "name": "stdout",
     "output_type": "stream",
     "text": [
      "급속충전기              0.256323\n",
      "완속충전기             -0.083911\n",
      "electric_car       0.001205\n",
      "toilet             0.022020\n",
      "generation         0.000076\n",
      "generation_per    13.420382\n",
      "generation_sum    -0.000007\n",
      "dtype: float64\n"
     ]
    }
   ],
   "source": [
    "import pandas as pd\n",
    "from sklearn.linear_model import LinearRegression\n",
    "\n",
    "# Load the dataset\n",
    "data = pd.read_excel('new_join.xlsx')\n",
    "\n",
    "# Define the features and target variable\n",
    "features = ['급속충전기', '완속충전기', 'electric_car', 'toilet', 'generation', 'generation_per', 'generation_sum']\n",
    "target = 'gas_station'\n",
    "\n",
    "X = data[features]\n",
    "y = data[target]\n",
    "\n",
    "# Create a Linear Regression model\n",
    "model = LinearRegression()\n",
    "model.fit(X, y)\n",
    "\n",
    "# Get the coefficients of the features\n",
    "coefficients = pd.Series(model.coef_, index=features)\n",
    "print(coefficients)"
   ]
  },
  {
   "cell_type": "code",
   "execution_count": 60,
   "id": "b427575b",
   "metadata": {},
   "outputs": [],
   "source": [
    "# 결과해석"
   ]
  },
  {
   "cell_type": "code",
   "execution_count": 61,
   "id": "f77304bd",
   "metadata": {},
   "outputs": [
    {
     "data": {
      "text/plain": [
       "\"'급속충전기': 계수 0.256323로 양의 값이므로 급속충전기의 증가는 종속 변수에 양의 영향을 미칠 수 있습니다.\\n'완속충전기': 계수 -0.083911로 음의 값이므로 완속충전기의 증가는 종속 변수에 음의 영향을 미칠 수 있습니다.\\n'electric_car': 계수 0.001205로 매우 작은 값이므로 electric_car 변수의 종속 변수에 대한 영향력은 매우 작을 것으로 예상됩니다.\\n'toilet': 계수 0.022020로 양의 값이므로 toilet의 증가는 종속 변수에 양의 영향을 미칠 수 있습니다.\\n'generation': 계수 0.000076로 매우 작은 값이므로 generation 변수의 종속 변수에 대한 영향력은 매우 작을 것으로 예상됩니다.\\n'generation_per': 계수 13.420382로 매우 큰 값이므로 generation_per 변수의 증가는 종속 변수에 매우 큰 양의 영향을 미칠 수 있습니다.\\n'generation_sum': 계수 -0.000007로 매우 작은 값이므로 generation_sum 변수의 종속 변수에 대한 영향력은 매우 작을 것으로 예상됩니다.\\n이러한 결과를 통해 종속 변수에 가장 큰 영향을 주는 변수는 'generation_per'이며, '급속충전기', '완속충전기', 'toilet' 역시 종속 변수에 어느 정도 영향을 미칠 수 있음을 알 수 있습니다. 그러나 'electric_car', 'generation', 'generation_sum' 변수는 종속 변수에 대한 영향력이 매우 작다고 해석할 수 있습니다.\""
      ]
     },
     "execution_count": 61,
     "metadata": {},
     "output_type": "execute_result"
    }
   ],
   "source": [
    "''''급속충전기': 계수 0.256323로 양의 값이므로 급속충전기의 증가는 종속 변수에 양의 영향을 미칠 수 있습니다.\n",
    "'완속충전기': 계수 -0.083911로 음의 값이므로 완속충전기의 증가는 종속 변수에 음의 영향을 미칠 수 있습니다.\n",
    "'electric_car': 계수 0.001205로 매우 작은 값이므로 electric_car 변수의 종속 변수에 대한 영향력은 매우 작을 것으로 예상됩니다.\n",
    "'toilet': 계수 0.022020로 양의 값이므로 toilet의 증가는 종속 변수에 양의 영향을 미칠 수 있습니다.\n",
    "'generation': 계수 0.000076로 매우 작은 값이므로 generation 변수의 종속 변수에 대한 영향력은 매우 작을 것으로 예상됩니다.\n",
    "'generation_per': 계수 13.420382로 매우 큰 값이므로 generation_per 변수의 증가는 종속 변수에 매우 큰 양의 영향을 미칠 수 있습니다.\n",
    "'generation_sum': 계수 -0.000007로 매우 작은 값이므로 generation_sum 변수의 종속 변수에 대한 영향력은 매우 작을 것으로 예상됩니다.\n",
    "이러한 결과를 통해 종속 변수에 가장 큰 영향을 주는 변수는 'generation_per'이며, '급속충전기', '완속충전기', 'toilet' 역시 종속 변수에 어느 정도 영향을 미칠 수 있음을 알 수 있습니다. 그러나 'electric_car', 'generation', 'generation_sum' 변수는 종속 변수에 대한 영향력이 매우 작다고 해석할 수 있습니다.'''"
   ]
  },
  {
   "cell_type": "code",
   "execution_count": 131,
   "id": "cd86682c",
   "metadata": {},
   "outputs": [
    {
     "name": "stdout",
     "output_type": "stream",
     "text": [
      "모델 RMSE: 4.2383655774027575\n"
     ]
    },
    {
     "data": {
      "image/png": "[encoded data removed]",
      "text/plain": [
       "<Figure size 720x432 with 1 Axes>"
      ]
     },
     "metadata": {
      "needs_background": "light"
     },
     "output_type": "display_data"
    }
   ],
   "source": [
    "import pandas as pd\n",
    "import numpy as np\n",
    "from sklearn.linear_model import LinearRegression\n",
    "from sklearn.metrics import mean_squared_error\n",
    "import matplotlib.pyplot as plt\n",
    "\n",
    "# Load the dataset\n",
    "data = pd.read_excel('new_join.xlsx')\n",
    "\n",
    "# Define the features and target variable\n",
    "features = ['급속충전기', '완속충전기', 'electric_car', 'toilet', 'generation', 'generation_per', 'generation_sum']\n",
    "target = 'gas_station'\n",
    "\n",
    "X = data[features]\n",
    "y = data[target]\n",
    "\n",
    "# Create a weight dictionary based on feature importances\n",
    "weights = {\n",
    "    '급속충전기': 0.256323,\n",
    "    '완속충전기': -0.083911,\n",
    "    'electric_car': 0.001205,\n",
    "    'toilet': 0.022020,\n",
    "    'generation': 0.000076,\n",
    "    'generation_per': 13.420382,\n",
    "    'generation_sum': -0.000007\n",
    "}\n",
    "\n",
    "# Apply weights to the features\n",
    "X_weighted = X.copy()\n",
    "for feature, weight in weights.items():\n",
    "    X_weighted[feature] *= weight\n",
    "\n",
    "# Create a Linear Regression model with weighted features\n",
    "model = LinearRegression()\n",
    "model.fit(X_weighted, y)\n",
    "\n",
    "# Evaluate the model\n",
    "y_pred = model.predict(X_weighted)\n",
    "rmse = np.sqrt(mean_squared_error(y, y_pred))\n",
    "print(f\"모델 RMSE: {rmse}\")\n",
    "\n",
    "# Make predictions on the entire dataset\n",
    "predictions = model.predict(X_weighted)\n",
    "\n",
    "# Add predictions to the dataset\n",
    "data['predictions'] = predictions\n",
    "\n",
    "# Select the top 5 districts based on predictions\n",
    "top_districts = data.sort_values('predictions', ascending=False)['address'].head(5)\n",
    "\n",
    "# Visualize the top districts\n",
    "plt.figure(figsize=(10, 6))\n",
    "plt.bar(top_districts, data.loc[top_districts.index, 'predictions'])\n",
    "plt.xlabel('District')\n",
    "plt.ylabel('Prediction')\n",
    "plt.title('Top Districts to Convert Gas Stations to Charging Stations')\n",
    "plt.xticks(rotation=45)\n",
    "plt.tight_layout()\n",
    "plt.show()\n"
   ]
  },
  {
   "cell_type": "code",
   "execution_count": 65,
   "id": "092d225d",
   "metadata": {},
   "outputs": [],
   "source": [
    "# adaboost"
   ]
  },
  {
   "cell_type": "code",
   "execution_count": 133,
   "id": "b40e5104",
   "metadata": {},
   "outputs": [
    {
     "name": "stdout",
     "output_type": "stream",
     "text": [
      "급속충전기: 0.07741404477717578\n",
      "완속충전기: 0.16802386060101204\n",
      "electric_car: 0.3422619847601189\n",
      "toilet: 0.0792488868803964\n",
      "generation: 0.05276040613375286\n",
      "generation_per: 0.13498422710169034\n",
      "generation_sum: 0.14530658974585392\n"
     ]
    }
   ],
   "source": [
    "import pandas as pd\n",
    "import numpy as np\n",
    "from sklearn.ensemble import AdaBoostRegressor\n",
    "from sklearn.metrics import mean_squared_error\n",
    "\n",
    "# Load the dataset\n",
    "data = pd.read_excel('new_join.xlsx')\n",
    "\n",
    "# Define the features and target variable\n",
    "features = ['급속충전기', '완속충전기', 'electric_car', 'toilet', 'generation', 'generation_per', 'generation_sum']\n",
    "target = 'gas_station'\n",
    "\n",
    "X = data[features]\n",
    "y = data[target]\n",
    "\n",
    "# Create an AdaBoost regression model\n",
    "model = AdaBoostRegressor()\n",
    "model.fit(X, y)\n",
    "\n",
    "# Get feature importances\n",
    "importances = model.feature_importances_\n",
    "\n",
    "# Print feature importances\n",
    "for feature, importance in zip(features, importances):\n",
    "    print(f\"{feature}: {importance}\")"
   ]
  },
  {
   "cell_type": "code",
   "execution_count": 134,
   "id": "89e2ccc0",
   "metadata": {},
   "outputs": [
    {
     "name": "stdout",
     "output_type": "stream",
     "text": [
      "모델 RMSE: 1.239996076646805\n"
     ]
    },
    {
     "data": {
      "image/png": "[encoded data removed]",
      "text/plain": [
       "<Figure size 720x432 with 1 Axes>"
      ]
     },
     "metadata": {
      "needs_background": "light"
     },
     "output_type": "display_data"
    }
   ],
   "source": [
    "import pandas as pd\n",
    "import numpy as np\n",
    "from sklearn.ensemble import AdaBoostRegressor\n",
    "from sklearn.metrics import mean_squared_error\n",
    "import matplotlib.pyplot as plt\n",
    "\n",
    "# Load the dataset\n",
    "data = pd.read_excel('new_join.xlsx')\n",
    "\n",
    "# Define the features and target variable\n",
    "features = ['급속충전기', '완속충전기', 'electric_car', 'toilet', 'generation', 'generation_per', 'generation_sum']\n",
    "target = 'gas_station'\n",
    "\n",
    "X = data[features]\n",
    "y = data[target]\n",
    "\n",
    "# Define the feature weights based on the importances\n",
    "weights = {\n",
    "    '급속충전기': 0.09812091369851804,\n",
    "    '완속충전기': 0.15386226864243047,\n",
    "    'electric_car': 0.2987795894272487,\n",
    "    'toilet': 0.11015933771778152,\n",
    "    'generation': 0.023095763449350215,\n",
    "    'generation_per': 0.13477156183810607,\n",
    "    'generation_sum': 0.1812105652265652\n",
    "}\n",
    "\n",
    "# Apply weights to the features\n",
    "X_weighted = X.copy()\n",
    "for feature, weight in weights.items():\n",
    "    X_weighted[feature] *= weight\n",
    "\n",
    "# Create an AdaBoost regression model with weighted features\n",
    "model = AdaBoostRegressor()\n",
    "model.fit(X_weighted, y)\n",
    "\n",
    "# Evaluate the model\n",
    "y_pred = model.predict(X_weighted)\n",
    "rmse = np.sqrt(mean_squared_error(y, y_pred))\n",
    "print(f\"모델 RMSE: {rmse}\")\n",
    "\n",
    "# Make predictions on the entire dataset\n",
    "predictions = model.predict(X_weighted)\n",
    "\n",
    "# Add predictions to the dataset\n",
    "data['predictions'] = predictions\n",
    "\n",
    "# Select the top 5 districts based on predictions\n",
    "top_districts = data.sort_values('predictions', ascending=False)['address'].head(5)\n",
    "\n",
    "# Visualize the top districts\n",
    "plt.figure(figsize=(10, 6))\n",
    "plt.bar(top_districts, data.loc[top_districts.index, 'predictions'])\n",
    "plt.xlabel('District')\n",
    "plt.ylabel('Prediction')\n",
    "plt.title('Top Districts to Convert Gas Stations to Charging Stations')\n",
    "plt.xticks(rotation=45)\n",
    "plt.tight_layout()\n",
    "plt.show()"
   ]
  },
  {
   "cell_type": "code",
   "execution_count": 68,
   "id": "e475149b",
   "metadata": {},
   "outputs": [],
   "source": [
    "# k-means"
   ]
  },
  {
   "cell_type": "code",
   "execution_count": 167,
   "id": "3292d3d4",
   "metadata": {},
   "outputs": [
    {
     "name": "stderr",
     "output_type": "stream",
     "text": [
      "C:\\Users\\A\\anaconda3\\lib\\site-packages\\sklearn\\cluster\\_kmeans.py:870: FutureWarning: The default value of `n_init` will change from 10 to 'auto' in 1.4. Set the value of `n_init` explicitly to suppress the warning\n",
      "  warnings.warn(\n",
      "C:\\Users\\A\\anaconda3\\lib\\site-packages\\sklearn\\cluster\\_kmeans.py:1382: UserWarning: KMeans is known to have a memory leak on Windows with MKL, when there are less chunks than available threads. You can avoid it by setting the environment variable OMP_NUM_THREADS=1.\n",
      "  warnings.warn(\n",
      "C:\\Users\\A\\AppData\\Local\\Temp/ipykernel_13052/490634620.py:22: FutureWarning: Indexing with multiple keys (implicitly converted to a tuple of keys) will be deprecated, use a list instead.\n",
      "  cluster_stats = data.groupby('cluster')['gas_station_density', 'charging_station_score'].mean()\n"
     ]
    },
    {
     "name": "stdout",
     "output_type": "stream",
     "text": [
      "Top Districts to Convert Gas Stations to Charging Stations:\n",
      "gangnam\n",
      "gangseo\n",
      "songpa\n"
     ]
    },
    {
     "data": {
      "image/png": "[encoded data removed]",
      "text/plain": [
       "<Figure size 720x432 with 1 Axes>"
      ]
     },
     "metadata": {
      "needs_background": "light"
     },
     "output_type": "display_data"
    },
    {
     "name": "stdout",
     "output_type": "stream",
     "text": [
      "Silhouette Score: 0.5249382178751199\n"
     ]
    }
   ],
   "source": [
    "import pandas as pd\n",
    "import matplotlib.pyplot as plt\n",
    "import seaborn as sns\n",
    "from sklearn.cluster import KMeans\n",
    "from sklearn.metrics import silhouette_score\n",
    "\n",
    "data = pd.read_excel('new_join.xlsx')\n",
    "\n",
    "features = ['electric_car', 'generation_sum']\n",
    "\n",
    "X = data[features]\n",
    "\n",
    "k = 5\n",
    "kmeans = KMeans(n_clusters=k, random_state=42)\n",
    "kmeans.fit(X)\n",
    "\n",
    "data['cluster'] = kmeans.labels_\n",
    "\n",
    "data['gas_station_density'] = data['gas_station'] / data['generation_sum']\n",
    "data['charging_station_score'] = data['electric_car'] * 0.5\n",
    "\n",
    "cluster_stats = data.groupby('cluster')['gas_station_density', 'charging_station_score'].mean()\n",
    "\n",
    "cluster_stats['rank'] = cluster_stats['gas_station_density'].rank(ascending=False) + cluster_stats['charging_station_score'].rank(ascending=False)\n",
    "\n",
    "top_cluster = cluster_stats['rank'].idxmin()\n",
    "\n",
    "top_data = data[data['cluster'] == top_cluster]\n",
    "\n",
    "top_data_sorted = top_data.sort_values('gas_station_density', ascending=False)\n",
    "\n",
    "top_districts = top_data_sorted['address'].head(5)\n",
    "\n",
    "print('Top Districts to Convert Gas Stations to Charging Stations:')\n",
    "for district in top_districts:\n",
    "    print(district)\n",
    "\n",
    "# 시각화 코드\n",
    "plt.figure(figsize=(10, 6))\n",
    "sns.scatterplot(data=data, x='gas_station_density', y='charging_station_score', hue='cluster')\n",
    "plt.title('Cluster Visualization')\n",
    "plt.xlabel('Gas Station Density')\n",
    "plt.ylabel('Charging Station Score')\n",
    "plt.show()\n",
    "\n",
    "# 클러스터링 성능 평가\n",
    "silhouette_avg = silhouette_score(X, kmeans.labels_)\n",
    "print('Silhouette Score:', silhouette_avg)\n"
   ]
  },
  {
   "cell_type": "code",
   "execution_count": 168,
   "id": "39afa393",
   "metadata": {},
   "outputs": [
    {
     "name": "stderr",
     "output_type": "stream",
     "text": [
      "C:\\Users\\A\\anaconda3\\lib\\site-packages\\sklearn\\cluster\\_kmeans.py:870: FutureWarning: The default value of `n_init` will change from 10 to 'auto' in 1.4. Set the value of `n_init` explicitly to suppress the warning\n",
      "  warnings.warn(\n",
      "C:\\Users\\A\\anaconda3\\lib\\site-packages\\sklearn\\cluster\\_kmeans.py:1382: UserWarning: KMeans is known to have a memory leak on Windows with MKL, when there are less chunks than available threads. You can avoid it by setting the environment variable OMP_NUM_THREADS=1.\n",
      "  warnings.warn(\n",
      "C:\\Users\\A\\anaconda3\\lib\\site-packages\\sklearn\\cluster\\_kmeans.py:870: FutureWarning: The default value of `n_init` will change from 10 to 'auto' in 1.4. Set the value of `n_init` explicitly to suppress the warning\n",
      "  warnings.warn(\n",
      "C:\\Users\\A\\anaconda3\\lib\\site-packages\\sklearn\\cluster\\_kmeans.py:1382: UserWarning: KMeans is known to have a memory leak on Windows with MKL, when there are less chunks than available threads. You can avoid it by setting the environment variable OMP_NUM_THREADS=1.\n",
      "  warnings.warn(\n",
      "C:\\Users\\A\\anaconda3\\lib\\site-packages\\sklearn\\cluster\\_kmeans.py:870: FutureWarning: The default value of `n_init` will change from 10 to 'auto' in 1.4. Set the value of `n_init` explicitly to suppress the warning\n",
      "  warnings.warn(\n",
      "C:\\Users\\A\\anaconda3\\lib\\site-packages\\sklearn\\cluster\\_kmeans.py:1382: UserWarning: KMeans is known to have a memory leak on Windows with MKL, when there are less chunks than available threads. You can avoid it by setting the environment variable OMP_NUM_THREADS=1.\n",
      "  warnings.warn(\n",
      "C:\\Users\\A\\anaconda3\\lib\\site-packages\\sklearn\\cluster\\_kmeans.py:870: FutureWarning: The default value of `n_init` will change from 10 to 'auto' in 1.4. Set the value of `n_init` explicitly to suppress the warning\n",
      "  warnings.warn(\n",
      "C:\\Users\\A\\anaconda3\\lib\\site-packages\\sklearn\\cluster\\_kmeans.py:1382: UserWarning: KMeans is known to have a memory leak on Windows with MKL, when there are less chunks than available threads. You can avoid it by setting the environment variable OMP_NUM_THREADS=1.\n",
      "  warnings.warn(\n",
      "C:\\Users\\A\\anaconda3\\lib\\site-packages\\sklearn\\cluster\\_kmeans.py:870: FutureWarning: The default value of `n_init` will change from 10 to 'auto' in 1.4. Set the value of `n_init` explicitly to suppress the warning\n",
      "  warnings.warn(\n",
      "C:\\Users\\A\\anaconda3\\lib\\site-packages\\sklearn\\cluster\\_kmeans.py:1382: UserWarning: KMeans is known to have a memory leak on Windows with MKL, when there are less chunks than available threads. You can avoid it by setting the environment variable OMP_NUM_THREADS=1.\n",
      "  warnings.warn(\n",
      "C:\\Users\\A\\anaconda3\\lib\\site-packages\\sklearn\\cluster\\_kmeans.py:870: FutureWarning: The default value of `n_init` will change from 10 to 'auto' in 1.4. Set the value of `n_init` explicitly to suppress the warning\n",
      "  warnings.warn(\n",
      "C:\\Users\\A\\anaconda3\\lib\\site-packages\\sklearn\\cluster\\_kmeans.py:1382: UserWarning: KMeans is known to have a memory leak on Windows with MKL, when there are less chunks than available threads. You can avoid it by setting the environment variable OMP_NUM_THREADS=1.\n",
      "  warnings.warn(\n",
      "C:\\Users\\A\\anaconda3\\lib\\site-packages\\sklearn\\cluster\\_kmeans.py:870: FutureWarning: The default value of `n_init` will change from 10 to 'auto' in 1.4. Set the value of `n_init` explicitly to suppress the warning\n",
      "  warnings.warn(\n",
      "C:\\Users\\A\\anaconda3\\lib\\site-packages\\sklearn\\cluster\\_kmeans.py:1382: UserWarning: KMeans is known to have a memory leak on Windows with MKL, when there are less chunks than available threads. You can avoid it by setting the environment variable OMP_NUM_THREADS=1.\n",
      "  warnings.warn(\n",
      "C:\\Users\\A\\anaconda3\\lib\\site-packages\\sklearn\\cluster\\_kmeans.py:870: FutureWarning: The default value of `n_init` will change from 10 to 'auto' in 1.4. Set the value of `n_init` explicitly to suppress the warning\n",
      "  warnings.warn(\n",
      "C:\\Users\\A\\anaconda3\\lib\\site-packages\\sklearn\\cluster\\_kmeans.py:1382: UserWarning: KMeans is known to have a memory leak on Windows with MKL, when there are less chunks than available threads. You can avoid it by setting the environment variable OMP_NUM_THREADS=1.\n",
      "  warnings.warn(\n",
      "C:\\Users\\A\\anaconda3\\lib\\site-packages\\sklearn\\cluster\\_kmeans.py:870: FutureWarning: The default value of `n_init` will change from 10 to 'auto' in 1.4. Set the value of `n_init` explicitly to suppress the warning\n",
      "  warnings.warn(\n",
      "C:\\Users\\A\\anaconda3\\lib\\site-packages\\sklearn\\cluster\\_kmeans.py:1382: UserWarning: KMeans is known to have a memory leak on Windows with MKL, when there are less chunks than available threads. You can avoid it by setting the environment variable OMP_NUM_THREADS=1.\n",
      "  warnings.warn(\n"
     ]
    },
    {
     "data": {
      "image/png": "[encoded data removed]",
      "text/plain": [
       "<Figure size 720x432 with 1 Axes>"
      ]
     },
     "metadata": {
      "needs_background": "light"
     },
     "output_type": "display_data"
    },
    {
     "name": "stdout",
     "output_type": "stream",
     "text": [
      "Best Silhouette Score: 0.5623570667851726\n",
      "Best Number of Clusters: 9\n"
     ]
    }
   ],
   "source": [
    "import pandas as pd\n",
    "import matplotlib.pyplot as plt\n",
    "import seaborn as sns\n",
    "from sklearn.cluster import KMeans\n",
    "from sklearn.metrics import silhouette_score\n",
    "\n",
    "data = pd.read_excel('new_join.xlsx')\n",
    "\n",
    "features = ['electric_car', 'generation_sum']\n",
    "\n",
    "X = data[features]\n",
    "\n",
    "# 클러스터 개수 범위 설정\n",
    "min_clusters = 2\n",
    "max_clusters = 10\n",
    "\n",
    "silhouette_scores = []\n",
    "\n",
    "for k in range(min_clusters, max_clusters+1):\n",
    "    kmeans = KMeans(n_clusters=k, random_state=42)\n",
    "    kmeans.fit(X)\n",
    "    labels = kmeans.labels_\n",
    "    silhouette_avg = silhouette_score(X, labels)\n",
    "    silhouette_scores.append(silhouette_avg)\n",
    "\n",
    "# 실루엣 점수 시각화\n",
    "plt.figure(figsize=(10, 6))\n",
    "plt.plot(range(min_clusters, max_clusters+1), silhouette_scores, marker='o')\n",
    "plt.title('Silhouette Score vs. Number of Clusters')\n",
    "plt.xlabel('Number of Clusters')\n",
    "plt.ylabel('Silhouette Score')\n",
    "plt.show()\n",
    "\n",
    "best_score = max(silhouette_scores)\n",
    "best_clusters = silhouette_scores.index(best_score) + min_clusters\n",
    "\n",
    "print('Best Silhouette Score:', best_score)\n",
    "print('Best Number of Clusters:', best_clusters)\n"
   ]
  }
 ],
 "metadata": {
  "kernelspec": {
   "display_name": "Python 3 (ipykernel)",
   "language": "python",
   "name": "python3"
  },
  "language_info": {
   "codemirror_mode": {
    "name": "ipython",
    "version": 3
   },
   "file_extension": ".py",
   "mimetype": "text/x-python",
   "name": "python",
   "nbconvert_exporter": "python",
   "pygments_lexer": "ipython3",
   "version": "3.10.9"
  }
 },
 "nbformat": 4,
 "nbformat_minor": 5
}
