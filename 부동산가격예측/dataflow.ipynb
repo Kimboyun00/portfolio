{
 "cells": [
  {
   "cell_type": "code",
   "execution_count": 5,
   "metadata": {},
   "outputs": [
    {
     "data": {
      "text/plain": [
       "'데이터플로우.png'"
      ]
     },
     "execution_count": 5,
     "metadata": {},
     "output_type": "execute_result"
    }
   ],
   "source": [
    "from graphviz import Digraph\n",
    "\n",
    "# Digraph 객체를 선언할때 format='png' 옵션을 설정합니다.\n",
    "dot = Digraph(comment='DATA FLOW',  graph_attr={'rankdir': 'LR'}, format='png')\n",
    "\n",
    "# 다양한 모양의 노드 추가\n",
    "dot.node('A', 'KOSIS(국가통계포털)', shape='box')\n",
    "dot.node('B', '성인지통계시스템', shape='box')\n",
    "dot.node('C', 'KB부동산 데이터 허브', shape='box')\n",
    "dot.node('D', '공공 데이터포털', shape='box')\n",
    "dot.node('E', '데이터 18개', shape='box')\n",
    "dot.node('F', '데이터 2개', shape='box')\n",
    "dot.node('G', '데이터 1개', shape='box')\n",
    "dot.node('H', '데이터 1개', shape='box')\n",
    "dot.node('I', '전처리', shape='box')\n",
    "dot.node('K', '중요변수선정', shape='box')\n",
    "dot.node('N', 'Case1. |상관계수| > 0.5 추출', shape='box')\n",
    "dot.node('O', 'Case2. RandomForest기반 변수중요도 상위 10개 추출', shape='box')\n",
    "dot.node('P', 'XGBOOST|ADABOOST|RANDOM FOREST|DECISION TREE|LSTM', shape='record')\n",
    "dot.node('p', 'XGBOOST|ADABOOST|RANDOM FOREST|DECISION TREE|LSTM', shape='record')\n",
    "dot.node('U', 'RMSE|MAE|MAPE', shape='record')\n",
    "dot.node('V', 'RMSE|MAE|MAPE', shape='record')\n",
    "dot.node('v', 'RMSE|MAE|MAPE', shape='record')\n",
    "dot.node('W', 'Case3. [Case1 ⋂ Case2]', shape='box')\n",
    "dot.node('a', 'XGBOOST|ADABOOST|RANDOM FOREST|DECISION TREE|LSTM', shape='record')\n",
    "dot.node('X', '오차값이 가장 작은 케이스와 모델 선정', shape='box')\n",
    "\n",
    "# 화살표(에지) 추가\n",
    "dot.edges(['AE', 'BF', 'CG',\n",
    "           'DH', 'EI', 'FI',\n",
    "           'GI', 'HI', 'IK',\n",
    "           'KN', 'KO', 'KW',\n",
    "           'NP',\n",
    "           'Op',\n",
    "           'PU',\n",
    "           'pV',\n",
    "           'UX', 'VX',\n",
    "           'Wa',\n",
    "           'av',\n",
    "           'vX'])\n",
    "\n",
    "# 이미지로 저장하고 표시\n",
    "path = \"데이터플로우\"\n",
    "dot.render(path)"
   ]
  }
 ],
 "metadata": {
  "kernelspec": {
   "display_name": "Python 3",
   "language": "python",
   "name": "python3"
  },
  "language_info": {
   "codemirror_mode": {
    "name": "ipython",
    "version": 3
   },
   "file_extension": ".py",
   "mimetype": "text/x-python",
   "name": "python",
   "nbconvert_exporter": "python",
   "pygments_lexer": "ipython3",
   "version": "3.11.0"
  }
 },
 "nbformat": 4,
 "nbformat_minor": 2
}
