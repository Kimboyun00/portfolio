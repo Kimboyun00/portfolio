{
 "cells": [
  {
   "cell_type": "code",
   "execution_count": 23,
   "metadata": {},
   "outputs": [
    {
     "name": "stdout",
     "output_type": "stream",
     "text": [
      "          날짜 성남시아파트매매가격\n",
      "1    2012.01     506489\n",
      "2    2012.02     504858\n",
      "3    2012.03     502607\n",
      "4    2012.04     500748\n",
      "5    2012.05     499260\n",
      "..       ...        ...\n",
      "146  2024.02    1041591\n",
      "147  2024.03    1038140\n",
      "148  2024.04    1035741\n",
      "149  2024.05    1036444\n",
      "150  2024.06    1045601\n",
      "\n",
      "[150 rows x 2 columns]\n"
     ]
    }
   ],
   "source": [
    "import pandas as pd\n",
    "import numpy as np\n",
    "import statsmodels.api as sm\n",
    "\n",
    "##데이터 불러오기\n",
    "아파트매매가격 = pd.read_excel('/Users/sia/Desktop/캡스톤/월별동향_아파트_매매가격.xlsx',header=None)\n",
    "\n",
    "###아파트매매가격\n",
    "df = 아파트매매가격.iloc[[0,47],1:151].T\n",
    "df.columns = ['날짜','성남시아파트매매가격']\n",
    "df['날짜'] = pd.to_datetime(df['날짜'].astype(str).apply(lambda x : x.ljust(7, '0')))\n",
    "df['날짜'] = df['날짜'].dt.strftime(\"%Y.%m\")\n",
    "print(df)\n",
    "\n",
    "df.to_excel('성남시아파트매매가격.xlsx', index=False, engine='openpyxl')"
   ]
  },
  {
   "cell_type": "code",
   "execution_count": 16,
   "metadata": {},
   "outputs": [
    {
     "name": "stdout",
     "output_type": "stream",
     "text": [
      "          날짜 시흥시아파트매매가격\n",
      "1    2012.01     190944\n",
      "2    2012.02     191093\n",
      "3    2012.03     190667\n",
      "4    2012.04     190556\n",
      "5    2012.05     189361\n",
      "..       ...        ...\n",
      "146  2024.02     366004\n",
      "147  2024.03     364946\n",
      "148  2024.04     365005\n",
      "149  2024.05     364655\n",
      "150  2024.06     365614\n",
      "\n",
      "[150 rows x 2 columns]\n"
     ]
    }
   ],
   "source": [
    "import pandas as pd\n",
    "import numpy as np\n",
    "import statsmodels.api as sm\n",
    "\n",
    "##데이터 불러오기\n",
    "아파트매매가격 = pd.read_excel('/Users/sia/Desktop/캡스톤/월별동향_아파트_매매가격.xlsx',header=None)\n",
    "\n",
    "###아파트매매가격\n",
    "test_df = 아파트매매가격.iloc[[0,75],1:151].T\n",
    "test_df.columns = ['날짜','시흥시아파트매매가격']\n",
    "test_df['날짜'] = pd.to_datetime(test_df['날짜'].astype(str).apply(lambda x : x.ljust(7, '0')))\n",
    "test_df['날짜'] = test_df['날짜'].dt.strftime(\"%Y.%m\")\n",
    "print(test_df)\n",
    "\n",
    "test_df.to_excel('시흥시아파트매매가격.xlsx', index=False, engine='openpyxl')"
   ]
  },
  {
   "cell_type": "code",
   "execution_count": 17,
   "metadata": {},
   "outputs": [
    {
     "name": "stdout",
     "output_type": "stream",
     "text": [
      "object\n",
      "object\n"
     ]
    }
   ],
   "source": [
    "print(df['성남시아파트매매가격'].dtype)\n",
    "print(test_df['시흥시아파트매매가격'].dtype)"
   ]
  },
  {
   "cell_type": "code",
   "execution_count": 18,
   "metadata": {},
   "outputs": [
    {
     "name": "stdout",
     "output_type": "stream",
     "text": [
      "Index(['날짜', '성남시아파트매매가격'], dtype='object')\n",
      "Index(['날짜', '시흥시아파트매매가격'], dtype='object')\n"
     ]
    }
   ],
   "source": [
    "print(df.columns)\n",
    "print(test_df.columns)\n"
   ]
  },
  {
   "cell_type": "code",
   "execution_count": 26,
   "metadata": {},
   "outputs": [
    {
     "name": "stdout",
     "output_type": "stream",
     "text": [
      "                            OLS Regression Results                            \n",
      "==============================================================================\n",
      "Dep. Variable:                  price   R-squared:                       0.964\n",
      "Model:                            OLS   Adj. R-squared:                  0.963\n",
      "Method:                 Least Squares   F-statistic:                     1112.\n",
      "Date:                Fri, 06 Dec 2024   Prob (F-statistic):          2.21e-206\n",
      "Time:                        16:28:20   Log-Likelihood:                -3703.7\n",
      "No. Observations:                 300   AIC:                             7423.\n",
      "Df Residuals:                     292   BIC:                             7453.\n",
      "Df Model:                           7                                         \n",
      "Covariance Type:            nonrobust                                         \n",
      "=================================================================================\n",
      "                    coef    std err          t      P>|t|      [0.025      0.975]\n",
      "---------------------------------------------------------------------------------\n",
      "Intercept       1.92e+05   6839.276     28.073      0.000    1.79e+05    2.05e+05\n",
      "group          2.923e+05   9672.197     30.217      0.000    2.73e+05    3.11e+05\n",
      "policy_1       3.829e+04    1.2e+04      3.201      0.002    1.47e+04    6.18e+04\n",
      "policy_2       1.484e+05   1.41e+04     10.520      0.000    1.21e+05    1.76e+05\n",
      "policy_3      -1.746e+04   1.67e+04     -1.045      0.297   -5.04e+04    1.54e+04\n",
      "interaction_1  1.806e+05   1.69e+04     10.671      0.000    1.47e+05    2.14e+05\n",
      "interaction_2  1.813e+05   1.99e+04      9.086      0.000    1.42e+05    2.21e+05\n",
      "interaction_3  1.167e+04   2.36e+04      0.494      0.622   -3.48e+04    5.82e+04\n",
      "==============================================================================\n",
      "Omnibus:                       30.979   Durbin-Watson:                   0.255\n",
      "Prob(Omnibus):                  0.000   Jarque-Bera (JB):               64.589\n",
      "Skew:                          -0.541   Prob(JB):                     9.43e-15\n",
      "Kurtosis:                       4.999   Cond. No.                         13.6\n",
      "==============================================================================\n",
      "\n",
      "Notes:\n",
      "[1] Standard Errors assume that the covariance matrix of the errors is correctly specified.\n"
     ]
    }
   ],
   "source": [
    "import pandas as pd\n",
    "import statsmodels.formula.api as smf\n",
    "import numpy as np\n",
    "import statsmodels.api as sm\n",
    "\n",
    "##데이터 불러오기\n",
    "아파트매매가격 = pd.read_excel('/Users/sia/Desktop/캡스톤/월별동향_아파트_매매가격.xlsx',header=None)\n",
    "\n",
    "###성남시아파트매매가격\n",
    "df = 아파트매매가격.iloc[[0, 47], 1:151].T\n",
    "df.columns = ['날짜', '성남시아파트매매가격']\n",
    "df['날짜'] = pd.to_datetime(df['날짜'], format='%Y.%m', errors='coerce')\n",
    "df['성남시아파트매매가격'] = pd.to_numeric(df['성남시아파트매매가격'], errors='coerce')\n",
    "\n",
    "###시흥시아파트매매가격\n",
    "test_df = 아파트매매가격.iloc[[0, 75], 1:151].T\n",
    "test_df.columns = ['날짜', '시흥시아파트매매가격']\n",
    "test_df['날짜'] = pd.to_datetime(test_df['날짜'], format='%Y.%m', errors='coerce')\n",
    "test_df['시흥시아파트매매가격'] = pd.to_numeric(test_df['시흥시아파트매매가격'], errors='coerce')\n",
    "\n",
    "\n",
    "# 2. 데이터 병합\n",
    "merged_df = pd.merge(df, test_df, on='날짜', how='inner')\n",
    "\n",
    "# 3. 처리군/대조군 및 정책 기간 변수 생성\n",
    "# 그룹 구분 (성남시: 1, 시흥시: 0)\n",
    "merged_df['group'] = 1  # 성남시\n",
    "sh_df = merged_df[['날짜', '시흥시아파트매매가격']].copy()\n",
    "sh_df.rename(columns={'시흥시아파트매매가격': 'price'}, inplace=True)\n",
    "sh_df['group'] = 0  # 시흥시\n",
    "\n",
    "sn_df = merged_df[['날짜', '성남시아파트매매가격']].copy()\n",
    "sn_df.rename(columns={'성남시아파트매매가격': 'price'}, inplace=True)\n",
    "sn_df['group'] = 1  # 성남시\n",
    "\n",
    "# 두 그룹 데이터 병합\n",
    "final_df = pd.concat([sn_df, sh_df])\n",
    "final_df['날짜'] = pd.to_datetime(final_df['날짜'], format='%Y.%m')\n",
    "\n",
    "# 정책 기간 설정\n",
    "final_df['policy_1'] = (final_df['날짜'] >= '2017-09').astype(int)  # 첫 번째 정책\n",
    "final_df['policy_2'] = (final_df['날짜'] >= '2020-06').astype(int)  # 두 번째 정책\n",
    "final_df['policy_3'] = (final_df['날짜'] >= '2023-01').astype(int)  # 세 번째 정책\n",
    "\n",
    "# 상호작용항 생성\n",
    "final_df['interaction_1'] = final_df['group'] * final_df['policy_1']\n",
    "final_df['interaction_2'] = final_df['group'] * final_df['policy_2']\n",
    "final_df['interaction_3'] = final_df['group'] * final_df['policy_3']\n",
    "\n",
    "# 4. 이중차분법 회귀 분석\n",
    "# 두 정책을 포함한 모형\n",
    "model = smf.ols('price ~ group + policy_1 + policy_2 + policy_3 + interaction_1 + interaction_2 + interaction_3', data=final_df)\n",
    "result = model.fit()\n",
    "\n",
    "# 5. 결과 출력\n",
    "print(result.summary())\n",
    "\n",
    "\n",
    "\n"
   ]
  },
  {
   "cell_type": "code",
   "execution_count": 29,
   "metadata": {},
   "outputs": [
    {
     "name": "stderr",
     "output_type": "stream",
     "text": [
      "/var/folders/1k/3rk52gf13kzd13dmy39stq980000gn/T/ipykernel_73533/2248747817.py:44: UserWarning: Glyph 49457 (\\N{HANGUL SYLLABLE SEONG}) missing from current font.\n",
      "  plt.tight_layout()\n",
      "/var/folders/1k/3rk52gf13kzd13dmy39stq980000gn/T/ipykernel_73533/2248747817.py:44: UserWarning: Glyph 45224 (\\N{HANGUL SYLLABLE NAM}) missing from current font.\n",
      "  plt.tight_layout()\n",
      "/var/folders/1k/3rk52gf13kzd13dmy39stq980000gn/T/ipykernel_73533/2248747817.py:44: UserWarning: Glyph 49884 (\\N{HANGUL SYLLABLE SI}) missing from current font.\n",
      "  plt.tight_layout()\n",
      "/var/folders/1k/3rk52gf13kzd13dmy39stq980000gn/T/ipykernel_73533/2248747817.py:44: UserWarning: Glyph 55141 (\\N{HANGUL SYLLABLE HEUNG}) missing from current font.\n",
      "  plt.tight_layout()\n",
      "/Library/anaconda3/lib/python3.9/site-packages/IPython/core/pylabtools.py:151: UserWarning: Glyph 49457 (\\N{HANGUL SYLLABLE SEONG}) missing from current font.\n",
      "  fig.canvas.print_figure(bytes_io, **kw)\n",
      "/Library/anaconda3/lib/python3.9/site-packages/IPython/core/pylabtools.py:151: UserWarning: Glyph 45224 (\\N{HANGUL SYLLABLE NAM}) missing from current font.\n",
      "  fig.canvas.print_figure(bytes_io, **kw)\n",
      "/Library/anaconda3/lib/python3.9/site-packages/IPython/core/pylabtools.py:151: UserWarning: Glyph 49884 (\\N{HANGUL SYLLABLE SI}) missing from current font.\n",
      "  fig.canvas.print_figure(bytes_io, **kw)\n",
      "/Library/anaconda3/lib/python3.9/site-packages/IPython/core/pylabtools.py:151: UserWarning: Glyph 55141 (\\N{HANGUL SYLLABLE HEUNG}) missing from current font.\n",
      "  fig.canvas.print_figure(bytes_io, **kw)\n"
     ]
    },
    {
     "data": {
      "image/png": "[encoded data removed]",
      "text/plain": [
       "<Figure size 720x432 with 1 Axes>"
      ]
     },
     "metadata": {
      "needs_background": "light"
     },
     "output_type": "display_data"
    }
   ],
   "source": [
    "import pandas as pd\n",
    "import matplotlib.pyplot as plt\n",
    "\n",
    "\n",
    "##데이터 불러오기\n",
    "아파트매매가격 = pd.read_excel('/Users/sia/Desktop/캡스톤/월별동향_아파트_매매가격.xlsx',header=None)\n",
    "\n",
    "###성남시아파트매매가격\n",
    "df = 아파트매매가격.iloc[[0, 47], 1:151].T\n",
    "df.columns = ['날짜', '성남시아파트매매가격']\n",
    "df['날짜'] = pd.to_datetime(df['날짜'], format='%Y.%m', errors='coerce')\n",
    "df['성남시아파트매매가격'] = pd.to_numeric(df['성남시아파트매매가격'], errors='coerce')\n",
    "\n",
    "###시흥시아파트매매가격\n",
    "test_df = 아파트매매가격.iloc[[0, 75], 1:151].T\n",
    "test_df.columns = ['날짜', '시흥시아파트매매가격']\n",
    "test_df['날짜'] = pd.to_datetime(test_df['날짜'], format='%Y.%m', errors='coerce')\n",
    "test_df['시흥시아파트매매가격'] = pd.to_numeric(test_df['시흥시아파트매매가격'], errors='coerce')\n",
    "\n",
    "\n",
    "\n",
    "# 2017년 9월과 2020년 6월 시점에서의 데이터 추출\n",
    "df_selected = df[df['날짜'].isin([pd.Timestamp('2017-09'), pd.Timestamp('2020-06'),  pd.Timestamp('2023-01')])]\n",
    "test_df_selected = test_df[test_df['날짜'].isin([pd.Timestamp('2017-09'), pd.Timestamp('2020-06'),  pd.Timestamp('2023-01')])]\n",
    "\n",
    "# 그래프 그리기\n",
    "plt.figure(figsize=(10, 6))\n",
    "\n",
    "# 성남시 아파트 매매 가격\n",
    "plt.plot(df_selected['날짜'].values, df_selected['성남시아파트매매가격'].values, marker='o', label='성남시', color='blue', linestyle='-', markersize=8)\n",
    "\n",
    "# 시흥시 아파트 매매 가격\n",
    "plt.plot(test_df_selected['날짜'].values, test_df_selected['시흥시아파트매매가격'].values, marker='o', label='시흥시', color='green', linestyle='-', markersize=8)\n",
    "\n",
    "# 시각화 옵션\n",
    "plt.title('Seongnam city vs Siheung City(2017.09 & 2020.06 & 2023.01)', fontsize=14)\n",
    "plt.xlabel('date', fontsize=12)\n",
    "plt.ylabel('price (unit: 1000won)', fontsize=12)\n",
    "plt.xticks(rotation=45)\n",
    "plt.legend()\n",
    "\n",
    "# 그래프 출력\n",
    "plt.grid(True)\n",
    "plt.tight_layout()\n",
    "plt.show()\n"
   ]
  },
  {
   "cell_type": "code",
   "execution_count": 1,
   "metadata": {},
   "outputs": [
    {
     "name": "stderr",
     "output_type": "stream",
     "text": [
      "/Library/anaconda3/lib/python3.9/site-packages/pandas/core/computation/expressions.py:21: UserWarning: Pandas requires version '2.8.4' or newer of 'numexpr' (version '2.8.1' currently installed).\n",
      "  from pandas.core.computation.check import NUMEXPR_INSTALLED\n",
      "/Library/anaconda3/lib/python3.9/site-packages/pandas/core/arrays/masked.py:60: UserWarning: Pandas requires version '1.3.6' or newer of 'bottleneck' (version '1.3.4' currently installed).\n",
      "  from pandas.core import (\n",
      "/var/folders/1k/3rk52gf13kzd13dmy39stq980000gn/T/ipykernel_82804/105352405.py:38: UserWarning: Glyph 49457 (\\N{HANGUL SYLLABLE SEONG}) missing from current font.\n",
      "  plt.tight_layout()\n",
      "/var/folders/1k/3rk52gf13kzd13dmy39stq980000gn/T/ipykernel_82804/105352405.py:38: UserWarning: Glyph 45224 (\\N{HANGUL SYLLABLE NAM}) missing from current font.\n",
      "  plt.tight_layout()\n",
      "/var/folders/1k/3rk52gf13kzd13dmy39stq980000gn/T/ipykernel_82804/105352405.py:38: UserWarning: Glyph 49884 (\\N{HANGUL SYLLABLE SI}) missing from current font.\n",
      "  plt.tight_layout()\n",
      "/var/folders/1k/3rk52gf13kzd13dmy39stq980000gn/T/ipykernel_82804/105352405.py:38: UserWarning: Glyph 55141 (\\N{HANGUL SYLLABLE HEUNG}) missing from current font.\n",
      "  plt.tight_layout()\n",
      "/Library/anaconda3/lib/python3.9/site-packages/IPython/core/pylabtools.py:151: UserWarning: Glyph 49457 (\\N{HANGUL SYLLABLE SEONG}) missing from current font.\n",
      "  fig.canvas.print_figure(bytes_io, **kw)\n",
      "/Library/anaconda3/lib/python3.9/site-packages/IPython/core/pylabtools.py:151: UserWarning: Glyph 45224 (\\N{HANGUL SYLLABLE NAM}) missing from current font.\n",
      "  fig.canvas.print_figure(bytes_io, **kw)\n",
      "/Library/anaconda3/lib/python3.9/site-packages/IPython/core/pylabtools.py:151: UserWarning: Glyph 49884 (\\N{HANGUL SYLLABLE SI}) missing from current font.\n",
      "  fig.canvas.print_figure(bytes_io, **kw)\n",
      "/Library/anaconda3/lib/python3.9/site-packages/IPython/core/pylabtools.py:151: UserWarning: Glyph 55141 (\\N{HANGUL SYLLABLE HEUNG}) missing from current font.\n",
      "  fig.canvas.print_figure(bytes_io, **kw)\n"
     ]
    },
    {
     "data": {
      "image/png": "[encoded data removed]",
      "text/plain": [
       "<Figure size 720x432 with 1 Axes>"
      ]
     },
     "metadata": {
      "needs_background": "light"
     },
     "output_type": "display_data"
    }
   ],
   "source": [
    "import pandas as pd\n",
    "import matplotlib.pyplot as plt\n",
    "\n",
    "##데이터 불러오기\n",
    "아파트매매가격 = pd.read_excel('/Users/sia/Desktop/캡스톤/월별동향_아파트_매매가격.xlsx',header=None)\n",
    "\n",
    "###성남시아파트매매가격\n",
    "df = 아파트매매가격.iloc[[0, 47], 1:151].T\n",
    "df.columns = ['날짜', '성남시아파트매매가격']\n",
    "df['날짜'] = pd.to_datetime(df['날짜'], format='%Y.%m', errors='coerce')\n",
    "df['성남시아파트매매가격'] = pd.to_numeric(df['성남시아파트매매가격'], errors='coerce')\n",
    "\n",
    "###시흥시아파트매매가격\n",
    "test_df = 아파트매매가격.iloc[[0, 75], 1:151].T\n",
    "test_df.columns = ['날짜', '시흥시아파트매매가격']\n",
    "test_df['날짜'] = pd.to_datetime(test_df['날짜'], format='%Y.%m', errors='coerce')\n",
    "test_df['시흥시아파트매매가격'] = pd.to_numeric(test_df['시흥시아파트매매가격'], errors='coerce')\n",
    "\n",
    "\n",
    "# 그래프 그리기\n",
    "plt.figure(figsize=(10, 6))\n",
    "\n",
    "# 성남시 아파트 매매 가격 전체 데이터\n",
    "plt.plot(df['날짜'].values, df['성남시아파트매매가격'].values, marker='o', label='성남시', color='blue', linestyle='-', markersize=1)\n",
    "\n",
    "# 시흥시 아파트 매매 가격 전체 데이터\n",
    "plt.plot(test_df['날짜'].values, test_df['시흥시아파트매매가격'].values, marker='o', label='시흥시', color='green', linestyle='-', markersize=1)\n",
    "\n",
    "# 시각화 옵션\n",
    "plt.title('Seongnam city vs Siheung City', fontsize=14)\n",
    "plt.xlabel('date', fontsize=12)\n",
    "plt.ylabel('price (unit: 1000won)', fontsize=12)\n",
    "plt.xticks(rotation=45)\n",
    "plt.legend()\n",
    "\n",
    "# 그래프 출력\n",
    "plt.grid(True)\n",
    "plt.tight_layout()\n",
    "plt.show()\n"
   ]
  },
  {
   "cell_type": "code",
   "execution_count": null,
   "metadata": {},
   "outputs": [],
   "source": []
  }
 ],
 "metadata": {
  "kernelspec": {
   "display_name": "base",
   "language": "python",
   "name": "python3"
  },
  "language_info": {
   "codemirror_mode": {
    "name": "ipython",
    "version": 3
   },
   "file_extension": ".py",
   "mimetype": "text/x-python",
   "name": "python",
   "nbconvert_exporter": "python",
   "pygments_lexer": "ipython3",
   "version": "3.9.12"
  }
 },
 "nbformat": 4,
 "nbformat_minor": 2
}
