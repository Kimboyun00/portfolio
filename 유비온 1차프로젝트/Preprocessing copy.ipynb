{
 "cells": [
  {
   "cell_type": "markdown",
   "id": "f82bd17a",
   "metadata": {},
   "source": [
    "### 데이터 수집\n",
    "- 데이터셋 1 : 재무비율 데이터\n",
    "    - KOSPI 200 안에 2015~2024년까지 한번이라도 들어온 기업에 대해서 진행\n",
    "- 데이터셋 2 : 주가 데이터\n",
    "    - 시가 데이터와 종가 데이터를 활용해서 진행"
   ]
  },
  {
   "cell_type": "markdown",
   "id": "283bdc58",
   "metadata": {},
   "source": [
    "## 1. 라이브러리 호출"
   ]
  },
  {
   "cell_type": "code",
   "execution_count": 33,
   "id": "b071c0c9",
   "metadata": {},
   "outputs": [],
   "source": [
    "import pandas as pd\n",
    "from pykrx import stock\n",
    "from datetime import datetime, timedelta\n",
    "import numpy as np\n",
    "import warnings\n",
    "warnings.filterwarnings('ignore')"
   ]
  },
  {
   "cell_type": "markdown",
   "id": "c2ed740a",
   "metadata": {},
   "source": [
    "## 2. 데이터 수집\n",
    "### 2.1 주가 데이터 (PyKrx)"
   ]
  },
  {
   "cell_type": "markdown",
   "id": "2d1ae059",
   "metadata": {},
   "source": [
    "##### 지정한 날짜가 영업일이 아닐 때 다음 영업일을 찾아 주는 함수"
   ]
  },
  {
   "cell_type": "code",
   "execution_count": 34,
   "id": "6d2524ca",
   "metadata": {},
   "outputs": [],
   "source": [
    "def get_previous_trading_day(date):\n",
    "    \"\"\"\n",
    "    입력 날짜가 휴장일이면 다음 영업일까지 반복해서 이동\n",
    "    date: 'YYYYMMDD' 문자열\n",
    "    \"\"\"\n",
    "    while True:\n",
    "        # 삼성전자(005930)의 OHLCV 데이터 확인\n",
    "        df = stock.get_market_ohlcv_by_date(date, date, \"005930\")\n",
    "        if not df.empty:\n",
    "            return date\n",
    "        # 휴장일이면 이전날로 이동\n",
    "        dt = datetime.strptime(date, \"%Y%m%d\") - timedelta(days=+1)\n",
    "        print(f\"{date}는 휴장일입니다. 이전 영업일을 검색합니다...\")\n",
    "        date = dt.strftime(\"%Y%m%d\")"
   ]
  },
  {
   "cell_type": "markdown",
   "id": "4aee2d5f",
   "metadata": {},
   "source": [
    "##### 지정한 기간동안의 코스피200의 종목 리스트를 반환하는 함수"
   ]
  },
  {
   "cell_type": "code",
   "execution_count": 35,
   "id": "89a150d3",
   "metadata": {},
   "outputs": [],
   "source": [
    "def kospi200_list(start_year, end_year):\n",
    "    # 결과를 저장할 리스트 생성\n",
    "    records = []\n",
    "\n",
    "    for year in range(start_year-1, end_year + 1):\n",
    "        date = f\"{year}0430\"  # 4월말 기준 (휴장일일 경우 이후 영업입)\n",
    "        trading_date = get_previous_trading_day(date)\n",
    "        df = stock.get_index_portfolio_deposit_file(\"1028\", trading_date, alternative = True)\n",
    "        # 각 코드에 대해 연도와 함께 리스트에 저장\n",
    "        for code in df:\n",
    "            records.append({'연도': year, '주식코드': code})\n",
    "\n",
    "    # 리스트를 데이터프레임으로 변환\n",
    "    result_df = pd.DataFrame(records)\n",
    "\n",
    "    frequency = result_df['주식코드'].value_counts()\n",
    "    frequency_df = frequency.reset_index()\n",
    "    frequency_df.columns = ['주식코드', '빈도수']\n",
    "    code_df = frequency_df[['주식코드']]\n",
    "    code_list = code_df['주식코드'].tolist()\n",
    "\n",
    "    return code_list"
   ]
  },
  {
   "cell_type": "markdown",
   "id": "74537283",
   "metadata": {},
   "source": [
    "##### 기간 내 코스피 200 종목 리스트 수집"
   ]
  },
  {
   "cell_type": "code",
   "execution_count": 36,
   "id": "cda46f32",
   "metadata": {},
   "outputs": [
    {
     "name": "stdout",
     "output_type": "stream",
     "text": [
      "KRX web server does NOT provide data prior to 2014/05/01.\n",
      "20160430는 휴장일입니다. 이전 영업일을 검색합니다...\n",
      "20170430는 휴장일입니다. 이전 영업일을 검색합니다...\n",
      "20170429는 휴장일입니다. 이전 영업일을 검색합니다...\n",
      "20200430는 휴장일입니다. 이전 영업일을 검색합니다...\n",
      "20220430는 휴장일입니다. 이전 영업일을 검색합니다...\n",
      "20230430는 휴장일입니다. 이전 영업일을 검색합니다...\n",
      "20230429는 휴장일입니다. 이전 영업일을 검색합니다...\n"
     ]
    }
   ],
   "source": [
    "# 코스피200 종목 리스트 수집 \n",
    "ticker_list = kospi200_list(2015, 2023)\n",
    "\n",
    "# 누락된 2014년 코스피200 종목 데이터 수집 후 병합\n",
    "for year in range(2008, 2015):\n",
    "    list_df = pd.read_excel(f\"data/index_data/{year}_04_kospi200.xlsx\",dtype={\"종목코드\" : str})\n",
    "    list_df[\"날짜\"] = f\"{year}-04-30\"\n",
    "    list_df[\"연도\"] = f\"{year}\"\n",
    "    list_df = list_df[[\"종목코드\",\"날짜\",\"연도\",\"상장시가총액\"]]\n",
    "    list_df.rename(columns={'상장시가총액' : '시가총액', '종목코드' : '주식코드'}, inplace=True)\n",
    "    code_list = list_df[\"주식코드\"].to_list()\n",
    "    ticker_list = ticker_list+code_list\n",
    "ticker_list = list(set(ticker_list))"
   ]
  },
  {
   "cell_type": "markdown",
   "id": "c359f0a2",
   "metadata": {},
   "source": [
    "##### 수익률 컬럼 생성"
   ]
  },
  {
   "cell_type": "code",
   "execution_count": 38,
   "id": "eaf10d6c",
   "metadata": {},
   "outputs": [
    {
     "name": "stdout",
     "output_type": "stream",
     "text": [
      "20160430는 휴장일입니다. 이전 영업일을 검색합니다...\n",
      "20170430는 휴장일입니다. 이전 영업일을 검색합니다...\n",
      "20170429는 휴장일입니다. 이전 영업일을 검색합니다...\n",
      "20200430는 휴장일입니다. 이전 영업일을 검색합니다...\n",
      "20220430는 휴장일입니다. 이전 영업일을 검색합니다...\n",
      "20230430는 휴장일입니다. 이전 영업일을 검색합니다...\n",
      "20230429는 휴장일입니다. 이전 영업일을 검색합니다...\n"
     ]
    }
   ],
   "source": [
    "start_year = 2013\n",
    "end_year = 2025\n",
    "\n",
    "records = []\n",
    "for year in range(start_year, end_year+1):\n",
    "    start_date = f\"{year}0430\"\n",
    "    trading_date = get_previous_trading_day(start_date)\n",
    "    for code in ticker_list:\n",
    "        cap_df = stock.get_market_ohlcv(trading_date, trading_date, code, adjusted=True)\n",
    "        if trading_date in cap_df.index:\n",
    "            close = cap_df.loc[trading_date, '종가']\n",
    "        # open = cap_df.loc[code, '시가']\n",
    "            records.append({\n",
    "                '주식코드': code,\n",
    "                '연도': year,\n",
    "                '날짜': trading_date,\n",
    "                '종가': close,\n",
    "                # '시가': open\n",
    "            })\n",
    "        else:\n",
    "            records.append({\n",
    "                '주식코드': code,\n",
    "                '연도': year,\n",
    "                '날짜': trading_date,\n",
    "                '종가': None,\n",
    "                # '시가': None\n",
    "            })"
   ]
  },
  {
   "cell_type": "code",
   "execution_count": 40,
   "id": "7f5d17b4",
   "metadata": {},
   "outputs": [],
   "source": [
    "for year in range(2008, 2013):\n",
    "    df = pd.read_excel(f\"data/close_data/{year}04_close.xlsx\", dtype={\"종목코드\" : str})\n",
    "    filtered_df = df[df['종목코드'].isin(ticker_list)]\n",
    "    for _, row in filtered_df.iterrows():\n",
    "        records.append({\n",
    "            '주식코드': row['종목코드'],\n",
    "            '연도': year,\n",
    "            '날짜': f\"{year}0430\",\n",
    "            '종가': np.float64(row['종가'])\n",
    "        })"
   ]
  },
  {
   "cell_type": "code",
   "execution_count": 66,
   "id": "0d3b2935",
   "metadata": {},
   "outputs": [],
   "source": [
    "copy_records = records.copy()"
   ]
  },
  {
   "cell_type": "markdown",
   "id": "130e79a3",
   "metadata": {},
   "source": [
    "##### 수익률컬럼 생성 후 -1, -inf, +inf 결측값으로 처리 후 제거"
   ]
  },
  {
   "cell_type": "code",
   "execution_count": 86,
   "id": "03f426b2",
   "metadata": {},
   "outputs": [],
   "source": [
    "df = pd.DataFrame(records)\n",
    "df.sort_values(by=['주식코드','연도'],ascending=True,ignore_index=True,inplace=True)\n",
    "df = df.drop_duplicates()\n",
    "\n",
    "# 공시년월 이후 1년간 수익률 컬럼 생성 \n",
    "# ex) 2014년 재무는 2015년 4월에 나옴 고로, 수익률은 2015.04~2016.04 의 수익률을 계산하여 연도가 2014인 row에 포함됨\n",
    "df['수익률'] = df.groupby('주식코드')['종가'].pct_change(1).shift(-2)\n",
    "\n",
    "df = df.replace([np.inf, -np.inf], np.nan)\n",
    "\n",
    "df = df[df['수익률'] != -1]\n",
    "\n",
    "df = df[['주식코드','연도','수익률']]\n",
    "df.dropna(inplace=True)"
   ]
  },
  {
   "cell_type": "markdown",
   "id": "f71906b7",
   "metadata": {},
   "source": [
    "##### PyKrx 수익률 xlsx파일 저장"
   ]
  },
  {
   "cell_type": "code",
   "execution_count": 88,
   "id": "df030aa4",
   "metadata": {},
   "outputs": [],
   "source": [
    "df.to_excel(\"data/krx.xlsx\", index=False)"
   ]
  },
  {
   "cell_type": "markdown",
   "id": "1e74034d",
   "metadata": {},
   "source": [
    "### 2.2 재무재표 데이터 (ts2000)"
   ]
  },
  {
   "cell_type": "markdown",
   "id": "dec95025",
   "metadata": {},
   "source": [
    "##### ts2000 데이터 불러오기"
   ]
  },
  {
   "cell_type": "code",
   "execution_count": 89,
   "id": "652c4bc0",
   "metadata": {},
   "outputs": [],
   "source": [
    "tsdata_df = pd.read_excel('data/ts2000.xlsx', dtype={'거래소코드' : str})"
   ]
  },
  {
   "cell_type": "markdown",
   "id": "9d24692a",
   "metadata": {},
   "source": [
    "##### 결측치 제거 - 회계기준이 다른 금융업 제외 후 제조업만 사용"
   ]
  },
  {
   "cell_type": "code",
   "execution_count": 90,
   "id": "f9a53c8d",
   "metadata": {},
   "outputs": [],
   "source": [
    "tsdata_df.dropna(inplace=True)"
   ]
  },
  {
   "cell_type": "markdown",
   "id": "4f3fc15c",
   "metadata": {},
   "source": [
    "##### 조인을 위한 ts2000 데이터 전처리"
   ]
  },
  {
   "cell_type": "code",
   "execution_count": 91,
   "id": "307a1df6",
   "metadata": {},
   "outputs": [],
   "source": [
    "def ts_data_loader(df):\n",
    "    ts_df = df.copy()\n",
    "    ts_df['회계년도'] = ts_df['회계년도'].str.split('/').str[0].astype(int)\n",
    "    ts_df['거래소코드'] = ts_df['거래소코드'].str.strip()\n",
    "    ts_df.rename(columns = {'회계년도':'연도',\n",
    "                            '거래소코드':'주식코드'}, inplace=True)\n",
    "\n",
    "    # 중복 확인\n",
    "    duplicates = ts_df.duplicated(subset=['주식코드', '연도'], keep=False)\n",
    "    ts_df[duplicates]\n",
    "\n",
    "    # 중복된 ('주식코드', '연도') 조합에서 첫 번째 값만 남김\n",
    "    ts_df = ts_df.drop_duplicates(subset=['주식코드', '연도'], keep='first').sort_values(by=['주식코드','연도'])\n",
    "\n",
    "    return ts_df\n",
    "\n",
    "ts_df = ts_data_loader(tsdata_df)"
   ]
  },
  {
   "cell_type": "markdown",
   "id": "65d60f52",
   "metadata": {},
   "source": [
    "##### 데이터 eda결과 drop할 컬럼들 목록"
   ]
  },
  {
   "cell_type": "code",
   "execution_count": 92,
   "id": "d650882a",
   "metadata": {},
   "outputs": [],
   "source": [
    "drop_cols = ['노동장비율(IFRS)','기계장비율(IFRS)','자본집약도(IFRS)',\n",
    "'비유동생물자산증가율(IFRS)','R & D 투자효율(IFRS)','세금과공과 대 총비용비율(IFRS)',\n",
    "'사내유보율(IFRS)','이자보상배율(이자비용)(IFRS)','이자보상배율(순금융비용)(IFRS)','비유동자산집중도(IFRS)']\n",
    "\n",
    "ts_df.drop(columns = drop_cols, inplace = True)"
   ]
  },
  {
   "cell_type": "markdown",
   "id": "052b4ef9",
   "metadata": {},
   "source": [
    "##### (원)단위 컬럼 제거 - 비율 척도 계산하기 위해"
   ]
  },
  {
   "cell_type": "code",
   "execution_count": 93,
   "id": "fd90a5e7",
   "metadata": {},
   "outputs": [],
   "source": [
    "col_list = []\n",
    "for col in ts_df.columns:\n",
    "    if '원)' in col:\n",
    "        col_list.append(col)\n",
    "ts_df.drop(columns=col_list,inplace=True)"
   ]
  },
  {
   "cell_type": "markdown",
   "id": "a0cc6b46",
   "metadata": {},
   "source": [
    "##### 결산월이 12월이 아닌 데이터는 제거 - 데이터 통일성을 위해"
   ]
  },
  {
   "cell_type": "code",
   "execution_count": 94,
   "id": "48651925",
   "metadata": {},
   "outputs": [],
   "source": [
    "flag = ts_df['결산월'] != 12\n",
    "ts_df = ts_df.loc[~flag]"
   ]
  },
  {
   "cell_type": "markdown",
   "id": "d5342a17",
   "metadata": {},
   "source": [
    "## 3. PyKrx 데이터 ts2000 데이터 조인"
   ]
  },
  {
   "cell_type": "markdown",
   "id": "7103e824",
   "metadata": {},
   "source": [
    "##### Pykrx 데이터와 ts2000 데이터 합치기"
   ]
  },
  {
   "cell_type": "code",
   "execution_count": 95,
   "id": "a7d6a84d",
   "metadata": {},
   "outputs": [],
   "source": [
    "# krx.xlsx 데이터 불러오기\n",
    "krx_df = pd.read_excel(\"data/krx.xlsx\", dtype={'주식코드' : str})"
   ]
  },
  {
   "cell_type": "code",
   "execution_count": 96,
   "id": "c9211352",
   "metadata": {},
   "outputs": [],
   "source": [
    "ts_rtn_df = pd.merge(ts_df, krx_df, on=['주식코드','연도'], how='inner')"
   ]
  },
  {
   "cell_type": "markdown",
   "id": "8d7cd203",
   "metadata": {},
   "source": [
    "##### 결산월 컬럼은 factor_analysis_with_rlm 과정과 backtesting 과정에 필요없는 컬럼이기 때문에 삭제"
   ]
  },
  {
   "cell_type": "code",
   "execution_count": 97,
   "id": "8c56c5df",
   "metadata": {},
   "outputs": [],
   "source": [
    "ts_rtn_df = ts_rtn_df.drop(columns='결산월')"
   ]
  },
  {
   "cell_type": "markdown",
   "id": "c3acf82c",
   "metadata": {},
   "source": [
    "##### 분석 위한 최종 데이터 저장"
   ]
  },
  {
   "cell_type": "code",
   "execution_count": 98,
   "id": "63792512",
   "metadata": {},
   "outputs": [],
   "source": [
    "ts_rtn_df.to_excel(\"data/ts_rtn.xlsx\", index=False)"
   ]
  },
  {
   "cell_type": "code",
   "execution_count": null,
   "id": "1d7c4242",
   "metadata": {},
   "outputs": [],
   "source": []
  }
 ],
 "metadata": {
  "kernelspec": {
   "display_name": "Python 3",
   "language": "python",
   "name": "python3"
  },
  "language_info": {
   "codemirror_mode": {
    "name": "ipython",
    "version": 3
   },
   "file_extension": ".py",
   "mimetype": "text/x-python",
   "name": "python",
   "nbconvert_exporter": "python",
   "pygments_lexer": "ipython3",
   "version": "3.11.0"
  }
 },
 "nbformat": 4,
 "nbformat_minor": 5
}
